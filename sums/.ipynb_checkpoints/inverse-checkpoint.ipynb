{
 "cells": [
  {
   "cell_type": "code",
   "execution_count": null,
   "metadata": {},
   "outputs": [],
   "source": [
    "# 5-Bar Linkage : Inverse Kinematics\n",
    "#\n",
    "# from Study and Development of Parallel Robots Based On 5-Bar Linkage\n",
    "# Manh Tuong Hoang, Trung Tin Vuong, Cong Bang Pham 2015\n",
    "# https://www.researchgate.net/publication/283356024_Study_and_Development_of_Parallel_Robots_Based_On_5-Bar_Linkage\n",
    "\n",
    "import math\n",
    "import numpy as np\n",
    "\n",
    "import matplotlib.pyplot as plt\n",
    "\n",
    "base = 10 # distance between servos, lc in the paper ^^\n",
    "humerus = 10 # from each servo to elbow, la ^^\n",
    "radius = 10 # elbow to pen, lb ^^\n",
    "\n",
    "baselineX = np.linspace(0, base, 100)\n",
    "baselineY = np.zeros(100)\n",
    "\n",
    "xArray = np.linspace(-100, 100, 100)\n",
    "yArray = np.linspace(-100, 100, 100)\n",
    "\n",
    "for x in xArray:\n",
    "    for y in yArray:\n",
    "        E1 = -2*humerus*x\n",
    "        F1 = -2*humerus*y\n",
    "        G1 = humerus*humerus-radius*radius+x*x+y*y\n",
    "        E4 = 2*humerus*(base-x)\n",
    "        F4 = 2*humerus*y\n",
    "        G4 = base*base + humerus*humerus - radius*radius + x*x + y*y - 2*base*x\n",
    "\n",
    "        lumpD1plus = (-F1+sqrt(E1*E1+F1*F1-G1*G1))/(G1-E1)\n",
    "        lumpD1minus = (-F1-sqrt(E1*E1+F1*F1-G1*G1))/(G1-E1)\n",
    "        lumpD4plus = (-F4+sqrt(E4*E4+F4*F4-G4*G4))/(G4-E4)\n",
    "        lumpD4minus = (-F4-sqrt(E4*E4+F4*F4-G4*G4))/(G4-E4)\n",
    "\n",
    "        D1plus = 2*atan(lumpD1plus)\n",
    "        D1minus = 2*atan(lumpD1minus)\n",
    "        D4plus = 2*atan(lumpD4plus)\n",
    "        D4minus = 2*atan(lumpD4minus)\n",
    "        \n",
    "\n",
    "\n",
    "\n"
   ]
  }
 ],
 "metadata": {
  "kernelspec": {
   "display_name": "Python 3",
   "language": "python",
   "name": "python3"
  },
  "language_info": {
   "codemirror_mode": {
    "name": "ipython",
    "version": 3
   },
   "file_extension": ".py",
   "mimetype": "text/x-python",
   "name": "python",
   "nbconvert_exporter": "python",
   "pygments_lexer": "ipython3",
   "version": "3.8.5"
  }
 },
 "nbformat": 4,
 "nbformat_minor": 4
}
